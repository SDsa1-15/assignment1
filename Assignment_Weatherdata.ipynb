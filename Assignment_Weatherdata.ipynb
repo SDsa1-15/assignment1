{
  "nbformat": 4,
  "nbformat_minor": 0,
  "metadata": {
    "colab": {
      "name": "Assignment_Weatherdata.ipynb",
      "provenance": [],
      "collapsed_sections": []
    },
    "kernelspec": {
      "name": "python3",
      "display_name": "Python 3"
    },
    "language_info": {
      "name": "python"
    }
  },
  "cells": [
    {
      "cell_type": "code",
      "metadata": {
        "colab": {
          "base_uri": "https://localhost:8080/",
          "height": 408
        },
        "id": "AJ2aWUcmkPAO",
        "outputId": "491c7534-3dbb-4a56-aa41-b6f626cb5a26"
      },
      "source": [
        "import pandas as pd\n",
        "df = pd.read_csv('https://raw.githubusercontent.com/Nanditha95/Weather-/main/weatherHistory.csv')\n",
        "df.head()"
      ],
      "execution_count": null,
      "outputs": [
        {
          "output_type": "execute_result",
          "data": {
            "text/html": [
              "<div>\n",
              "<style scoped>\n",
              "    .dataframe tbody tr th:only-of-type {\n",
              "        vertical-align: middle;\n",
              "    }\n",
              "\n",
              "    .dataframe tbody tr th {\n",
              "        vertical-align: top;\n",
              "    }\n",
              "\n",
              "    .dataframe thead th {\n",
              "        text-align: right;\n",
              "    }\n",
              "</style>\n",
              "<table border=\"1\" class=\"dataframe\">\n",
              "  <thead>\n",
              "    <tr style=\"text-align: right;\">\n",
              "      <th></th>\n",
              "      <th>Formatted Date</th>\n",
              "      <th>Summary</th>\n",
              "      <th>Precip Type</th>\n",
              "      <th>Temperature (C)</th>\n",
              "      <th>Apparent Temperature (C)</th>\n",
              "      <th>Humidity</th>\n",
              "      <th>Wind Speed (km/h)</th>\n",
              "      <th>Wind Bearing (degrees)</th>\n",
              "      <th>Visibility (km)</th>\n",
              "      <th>Loud Cover</th>\n",
              "      <th>Pressure (millibars)</th>\n",
              "      <th>Daily Summary</th>\n",
              "    </tr>\n",
              "  </thead>\n",
              "  <tbody>\n",
              "    <tr>\n",
              "      <th>0</th>\n",
              "      <td>2006-04-01 00:00:00.000 +0200</td>\n",
              "      <td>Partly Cloudy</td>\n",
              "      <td>rain</td>\n",
              "      <td>9.472222</td>\n",
              "      <td>7.388889</td>\n",
              "      <td>0.89</td>\n",
              "      <td>14.1197</td>\n",
              "      <td>251.0</td>\n",
              "      <td>15.8263</td>\n",
              "      <td>0.0</td>\n",
              "      <td>1015.13</td>\n",
              "      <td>Partly cloudy throughout the day.</td>\n",
              "    </tr>\n",
              "    <tr>\n",
              "      <th>1</th>\n",
              "      <td>2006-04-01 01:00:00.000 +0200</td>\n",
              "      <td>Partly Cloudy</td>\n",
              "      <td>rain</td>\n",
              "      <td>9.355556</td>\n",
              "      <td>7.227778</td>\n",
              "      <td>0.86</td>\n",
              "      <td>14.2646</td>\n",
              "      <td>259.0</td>\n",
              "      <td>15.8263</td>\n",
              "      <td>0.0</td>\n",
              "      <td>1015.63</td>\n",
              "      <td>Partly cloudy throughout the day.</td>\n",
              "    </tr>\n",
              "    <tr>\n",
              "      <th>2</th>\n",
              "      <td>2006-04-01 02:00:00.000 +0200</td>\n",
              "      <td>Mostly Cloudy</td>\n",
              "      <td>rain</td>\n",
              "      <td>9.377778</td>\n",
              "      <td>9.377778</td>\n",
              "      <td>0.89</td>\n",
              "      <td>3.9284</td>\n",
              "      <td>204.0</td>\n",
              "      <td>14.9569</td>\n",
              "      <td>0.0</td>\n",
              "      <td>1015.94</td>\n",
              "      <td>Partly cloudy throughout the day.</td>\n",
              "    </tr>\n",
              "    <tr>\n",
              "      <th>3</th>\n",
              "      <td>2006-04-01 03:00:00.000 +0200</td>\n",
              "      <td>Partly Cloudy</td>\n",
              "      <td>rain</td>\n",
              "      <td>8.288889</td>\n",
              "      <td>5.944444</td>\n",
              "      <td>0.83</td>\n",
              "      <td>14.1036</td>\n",
              "      <td>269.0</td>\n",
              "      <td>15.8263</td>\n",
              "      <td>0.0</td>\n",
              "      <td>1016.41</td>\n",
              "      <td>Partly cloudy throughout the day.</td>\n",
              "    </tr>\n",
              "    <tr>\n",
              "      <th>4</th>\n",
              "      <td>2006-04-01 04:00:00.000 +0200</td>\n",
              "      <td>Mostly Cloudy</td>\n",
              "      <td>rain</td>\n",
              "      <td>8.755556</td>\n",
              "      <td>6.977778</td>\n",
              "      <td>0.83</td>\n",
              "      <td>11.0446</td>\n",
              "      <td>259.0</td>\n",
              "      <td>15.8263</td>\n",
              "      <td>0.0</td>\n",
              "      <td>1016.51</td>\n",
              "      <td>Partly cloudy throughout the day.</td>\n",
              "    </tr>\n",
              "  </tbody>\n",
              "</table>\n",
              "</div>"
            ],
            "text/plain": [
              "                  Formatted Date  ...                      Daily Summary\n",
              "0  2006-04-01 00:00:00.000 +0200  ...  Partly cloudy throughout the day.\n",
              "1  2006-04-01 01:00:00.000 +0200  ...  Partly cloudy throughout the day.\n",
              "2  2006-04-01 02:00:00.000 +0200  ...  Partly cloudy throughout the day.\n",
              "3  2006-04-01 03:00:00.000 +0200  ...  Partly cloudy throughout the day.\n",
              "4  2006-04-01 04:00:00.000 +0200  ...  Partly cloudy throughout the day.\n",
              "\n",
              "[5 rows x 12 columns]"
            ]
          },
          "metadata": {},
          "execution_count": 1
        }
      ]
    },
    {
      "cell_type": "code",
      "metadata": {
        "colab": {
          "base_uri": "https://localhost:8080/"
        },
        "id": "ClBq63JgkQDb",
        "outputId": "91f32e8a-6428-4674-ea83-4cac408659a9"
      },
      "source": [
        "df.info()"
      ],
      "execution_count": null,
      "outputs": [
        {
          "output_type": "stream",
          "name": "stdout",
          "text": [
            "<class 'pandas.core.frame.DataFrame'>\n",
            "RangeIndex: 96453 entries, 0 to 96452\n",
            "Data columns (total 12 columns):\n",
            " #   Column                    Non-Null Count  Dtype  \n",
            "---  ------                    --------------  -----  \n",
            " 0   Formatted Date            96453 non-null  object \n",
            " 1   Summary                   96453 non-null  object \n",
            " 2   Precip Type               95936 non-null  object \n",
            " 3   Temperature (C)           96453 non-null  float64\n",
            " 4   Apparent Temperature (C)  96453 non-null  float64\n",
            " 5   Humidity                  96453 non-null  float64\n",
            " 6   Wind Speed (km/h)         96453 non-null  float64\n",
            " 7   Wind Bearing (degrees)    96453 non-null  float64\n",
            " 8   Visibility (km)           96453 non-null  float64\n",
            " 9   Loud Cover                96453 non-null  float64\n",
            " 10  Pressure (millibars)      96453 non-null  float64\n",
            " 11  Daily Summary             96453 non-null  object \n",
            "dtypes: float64(8), object(4)\n",
            "memory usage: 8.8+ MB\n"
          ]
        }
      ]
    },
    {
      "cell_type": "code",
      "metadata": {
        "id": "2qbVh1FCkQBG"
      },
      "source": [
        "import matplotlib.pyplot as plt\n",
        "%matplotlib inline"
      ],
      "execution_count": null,
      "outputs": []
    },
    {
      "cell_type": "code",
      "metadata": {
        "id": "AbgTPslwq7pc"
      },
      "source": [
        "X_features = df.columns\n"
      ],
      "execution_count": null,
      "outputs": []
    },
    {
      "cell_type": "code",
      "metadata": {
        "colab": {
          "base_uri": "https://localhost:8080/"
        },
        "id": "V_B33n-lVjAS",
        "outputId": "517add0f-d2bc-49ef-ad21-685881fcb9ea"
      },
      "source": [
        "X_features = ['Humidity', 'Wind Speed (km/h)', 'Wind Bearing (degrees)', 'Visibility (km)', 'Pressure (millibars)']\n",
        "X_features"
      ],
      "execution_count": null,
      "outputs": [
        {
          "output_type": "execute_result",
          "data": {
            "text/plain": [
              "['Humidity',\n",
              " 'Wind Speed (km/h)',\n",
              " 'Wind Bearing (degrees)',\n",
              " 'Visibility (km)',\n",
              " 'Pressure (millibars)']"
            ]
          },
          "metadata": {},
          "execution_count": 5
        }
      ]
    },
    {
      "cell_type": "code",
      "metadata": {
        "id": "oJqJEFkwXJxy"
      },
      "source": [
        "new_df = df[X_features]"
      ],
      "execution_count": null,
      "outputs": []
    },
    {
      "cell_type": "code",
      "metadata": {
        "id": "L43pVqodZ_b6",
        "colab": {
          "base_uri": "https://localhost:8080/",
          "height": 359
        },
        "outputId": "42fe4985-de10-4a5f-8adf-ad26bb1bcb5e"
      },
      "source": [
        "new_df.head(10)"
      ],
      "execution_count": null,
      "outputs": [
        {
          "output_type": "execute_result",
          "data": {
            "text/html": [
              "<div>\n",
              "<style scoped>\n",
              "    .dataframe tbody tr th:only-of-type {\n",
              "        vertical-align: middle;\n",
              "    }\n",
              "\n",
              "    .dataframe tbody tr th {\n",
              "        vertical-align: top;\n",
              "    }\n",
              "\n",
              "    .dataframe thead th {\n",
              "        text-align: right;\n",
              "    }\n",
              "</style>\n",
              "<table border=\"1\" class=\"dataframe\">\n",
              "  <thead>\n",
              "    <tr style=\"text-align: right;\">\n",
              "      <th></th>\n",
              "      <th>Humidity</th>\n",
              "      <th>Wind Speed (km/h)</th>\n",
              "      <th>Wind Bearing (degrees)</th>\n",
              "      <th>Visibility (km)</th>\n",
              "      <th>Pressure (millibars)</th>\n",
              "    </tr>\n",
              "  </thead>\n",
              "  <tbody>\n",
              "    <tr>\n",
              "      <th>0</th>\n",
              "      <td>0.89</td>\n",
              "      <td>14.1197</td>\n",
              "      <td>251.0</td>\n",
              "      <td>15.8263</td>\n",
              "      <td>1015.13</td>\n",
              "    </tr>\n",
              "    <tr>\n",
              "      <th>1</th>\n",
              "      <td>0.86</td>\n",
              "      <td>14.2646</td>\n",
              "      <td>259.0</td>\n",
              "      <td>15.8263</td>\n",
              "      <td>1015.63</td>\n",
              "    </tr>\n",
              "    <tr>\n",
              "      <th>2</th>\n",
              "      <td>0.89</td>\n",
              "      <td>3.9284</td>\n",
              "      <td>204.0</td>\n",
              "      <td>14.9569</td>\n",
              "      <td>1015.94</td>\n",
              "    </tr>\n",
              "    <tr>\n",
              "      <th>3</th>\n",
              "      <td>0.83</td>\n",
              "      <td>14.1036</td>\n",
              "      <td>269.0</td>\n",
              "      <td>15.8263</td>\n",
              "      <td>1016.41</td>\n",
              "    </tr>\n",
              "    <tr>\n",
              "      <th>4</th>\n",
              "      <td>0.83</td>\n",
              "      <td>11.0446</td>\n",
              "      <td>259.0</td>\n",
              "      <td>15.8263</td>\n",
              "      <td>1016.51</td>\n",
              "    </tr>\n",
              "    <tr>\n",
              "      <th>5</th>\n",
              "      <td>0.85</td>\n",
              "      <td>13.9587</td>\n",
              "      <td>258.0</td>\n",
              "      <td>14.9569</td>\n",
              "      <td>1016.66</td>\n",
              "    </tr>\n",
              "    <tr>\n",
              "      <th>6</th>\n",
              "      <td>0.95</td>\n",
              "      <td>12.3648</td>\n",
              "      <td>259.0</td>\n",
              "      <td>9.9820</td>\n",
              "      <td>1016.72</td>\n",
              "    </tr>\n",
              "    <tr>\n",
              "      <th>7</th>\n",
              "      <td>0.89</td>\n",
              "      <td>14.1519</td>\n",
              "      <td>260.0</td>\n",
              "      <td>9.9820</td>\n",
              "      <td>1016.84</td>\n",
              "    </tr>\n",
              "    <tr>\n",
              "      <th>8</th>\n",
              "      <td>0.82</td>\n",
              "      <td>11.3183</td>\n",
              "      <td>259.0</td>\n",
              "      <td>9.9820</td>\n",
              "      <td>1017.37</td>\n",
              "    </tr>\n",
              "    <tr>\n",
              "      <th>9</th>\n",
              "      <td>0.72</td>\n",
              "      <td>12.5258</td>\n",
              "      <td>279.0</td>\n",
              "      <td>9.9820</td>\n",
              "      <td>1017.22</td>\n",
              "    </tr>\n",
              "  </tbody>\n",
              "</table>\n",
              "</div>"
            ],
            "text/plain": [
              "   Humidity  Wind Speed (km/h)  ...  Visibility (km)  Pressure (millibars)\n",
              "0      0.89            14.1197  ...          15.8263               1015.13\n",
              "1      0.86            14.2646  ...          15.8263               1015.63\n",
              "2      0.89             3.9284  ...          14.9569               1015.94\n",
              "3      0.83            14.1036  ...          15.8263               1016.41\n",
              "4      0.83            11.0446  ...          15.8263               1016.51\n",
              "5      0.85            13.9587  ...          14.9569               1016.66\n",
              "6      0.95            12.3648  ...           9.9820               1016.72\n",
              "7      0.89            14.1519  ...           9.9820               1016.84\n",
              "8      0.82            11.3183  ...           9.9820               1017.37\n",
              "9      0.72            12.5258  ...           9.9820               1017.22\n",
              "\n",
              "[10 rows x 5 columns]"
            ]
          },
          "metadata": {},
          "execution_count": 7
        }
      ]
    },
    {
      "cell_type": "code",
      "metadata": {
        "id": "vTu_VqXykP8h",
        "colab": {
          "base_uri": "https://localhost:8080/"
        },
        "outputId": "2f928420-df5d-428a-8778-f284414fa39a"
      },
      "source": [
        "import statsmodels.api as sm\n",
        "from sklearn.model_selection import train_test_split"
      ],
      "execution_count": null,
      "outputs": [
        {
          "output_type": "stream",
          "name": "stderr",
          "text": [
            "/usr/local/lib/python3.7/dist-packages/statsmodels/tools/_testing.py:19: FutureWarning: pandas.util.testing is deprecated. Use the functions in the public API at pandas.testing instead.\n",
            "  import pandas.util.testing as tm\n"
          ]
        }
      ]
    },
    {
      "cell_type": "code",
      "metadata": {
        "id": "V8byC3sWkP24"
      },
      "source": [
        "X = sm.add_constant(new_df)\n",
        "y = df['Temperature (C)']\n",
        "train_X, test_X, train_y, test_y = train_test_split( X,\n",
        "                                                    y,\n",
        "                                                    train_size = 0.8,\n",
        "                                                    random_state = 100 )"
      ],
      "execution_count": null,
      "outputs": []
    },
    {
      "cell_type": "code",
      "metadata": {
        "colab": {
          "base_uri": "https://localhost:8080/",
          "height": 401
        },
        "id": "z_4sz_TJnj59",
        "outputId": "e8734458-0d66-4537-c8b6-f1405f725956"
      },
      "source": [
        "model_1 = sm.OLS(train_y, train_X).fit()\n",
        "model_1.summary2()"
      ],
      "execution_count": null,
      "outputs": [
        {
          "output_type": "execute_result",
          "data": {
            "text/html": [
              "<table class=\"simpletable\">\n",
              "<tr>\n",
              "        <td>Model:</td>               <td>OLS</td>         <td>Adj. R-squared:</td>      <td>0.451</td>   \n",
              "</tr>\n",
              "<tr>\n",
              "  <td>Dependent Variable:</td>  <td>Temperature (C)</td>        <td>AIC:</td>         <td>521259.2419</td>\n",
              "</tr>\n",
              "<tr>\n",
              "         <td>Date:</td>        <td>2021-08-31 11:45</td>        <td>BIC:</td>         <td>521314.7638</td>\n",
              "</tr>\n",
              "<tr>\n",
              "   <td>No. Observations:</td>        <td>77162</td>        <td>Log-Likelihood:</td>   <td>-2.6062e+05</td>\n",
              "</tr>\n",
              "<tr>\n",
              "       <td>Df Model:</td>              <td>5</td>           <td>F-statistic:</td>      <td>1.268e+04</td> \n",
              "</tr>\n",
              "<tr>\n",
              "     <td>Df Residuals:</td>          <td>77156</td>      <td>Prob (F-statistic):</td>    <td>0.00</td>    \n",
              "</tr>\n",
              "<tr>\n",
              "      <td>R-squared:</td>            <td>0.451</td>            <td>Scale:</td>          <td>50.271</td>   \n",
              "</tr>\n",
              "</table>\n",
              "<table class=\"simpletable\">\n",
              "<tr>\n",
              "             <td></td>              <th>Coef.</th>  <th>Std.Err.</th>     <th>t</th>      <th>P>|t|</th>  <th>[0.025</th>   <th>0.975]</th> \n",
              "</tr>\n",
              "<tr>\n",
              "  <th>const</th>                   <td>32.2310</td>  <td>0.2683</td>  <td>120.1285</td>  <td>0.0000</td>  <td>31.7051</td>  <td>32.7568</td>\n",
              "</tr>\n",
              "<tr>\n",
              "  <th>Humidity</th>               <td>-29.2635</td>  <td>0.1438</td>  <td>-203.5069</td> <td>0.0000</td> <td>-29.5453</td> <td>-28.9817</td>\n",
              "</tr>\n",
              "<tr>\n",
              "  <th>Wind Speed (km/h)</th>       <td>-0.2047</td>  <td>0.0038</td>  <td>-53.6505</td>  <td>0.0000</td>  <td>-0.2121</td>  <td>-0.1972</td>\n",
              "</tr>\n",
              "<tr>\n",
              "  <th>Wind Bearing (degrees)</th>  <td>0.0032</td>   <td>0.0002</td>   <td>13.5395</td>  <td>0.0000</td>  <td>0.0028</td>   <td>0.0037</td> \n",
              "</tr>\n",
              "<tr>\n",
              "  <th>Visibility (km)</th>         <td>0.4238</td>   <td>0.0066</td>   <td>64.4853</td>  <td>0.0000</td>  <td>0.4110</td>   <td>0.4367</td> \n",
              "</tr>\n",
              "<tr>\n",
              "  <th>Pressure (millibars)</th>    <td>-0.0016</td>  <td>0.0002</td>   <td>-7.2488</td>  <td>0.0000</td>  <td>-0.0020</td>  <td>-0.0012</td>\n",
              "</tr>\n",
              "</table>\n",
              "<table class=\"simpletable\">\n",
              "<tr>\n",
              "     <td>Omnibus:</td>    <td>2588.167</td>  <td>Durbin-Watson:</td>     <td>1.995</td> \n",
              "</tr>\n",
              "<tr>\n",
              "  <td>Prob(Omnibus):</td>   <td>0.000</td>  <td>Jarque-Bera (JB):</td> <td>2873.166</td>\n",
              "</tr>\n",
              "<tr>\n",
              "       <td>Skew:</td>      <td>-0.452</td>      <td>Prob(JB):</td>       <td>0.000</td> \n",
              "</tr>\n",
              "<tr>\n",
              "     <td>Kurtosis:</td>     <td>3.273</td>   <td>Condition No.:</td>     <td>11262</td> \n",
              "</tr>\n",
              "</table>"
            ],
            "text/plain": [
              "<class 'statsmodels.iolib.summary2.Summary'>\n",
              "\"\"\"\n",
              "                      Results: Ordinary least squares\n",
              "===========================================================================\n",
              "Model:                 OLS                Adj. R-squared:       0.451      \n",
              "Dependent Variable:    Temperature (C)    AIC:                  521259.2419\n",
              "Date:                  2021-08-31 11:45   BIC:                  521314.7638\n",
              "No. Observations:      77162              Log-Likelihood:       -2.6062e+05\n",
              "Df Model:              5                  F-statistic:          1.268e+04  \n",
              "Df Residuals:          77156              Prob (F-statistic):   0.00       \n",
              "R-squared:             0.451              Scale:                50.271     \n",
              "---------------------------------------------------------------------------\n",
              "                        Coef.   Std.Err.     t     P>|t|   [0.025   0.975] \n",
              "---------------------------------------------------------------------------\n",
              "const                   32.2310   0.2683  120.1285 0.0000  31.7051  32.7568\n",
              "Humidity               -29.2635   0.1438 -203.5069 0.0000 -29.5453 -28.9817\n",
              "Wind Speed (km/h)       -0.2047   0.0038  -53.6505 0.0000  -0.2121  -0.1972\n",
              "Wind Bearing (degrees)   0.0032   0.0002   13.5395 0.0000   0.0028   0.0037\n",
              "Visibility (km)          0.4238   0.0066   64.4853 0.0000   0.4110   0.4367\n",
              "Pressure (millibars)    -0.0016   0.0002   -7.2488 0.0000  -0.0020  -0.0012\n",
              "---------------------------------------------------------------------------\n",
              "Omnibus:                2588.167         Durbin-Watson:            1.995   \n",
              "Prob(Omnibus):          0.000            Jarque-Bera (JB):         2873.166\n",
              "Skew:                   -0.452           Prob(JB):                 0.000   \n",
              "Kurtosis:               3.273            Condition No.:            11262   \n",
              "===========================================================================\n",
              "* The condition number is large (1e+04). This might indicate\n",
              "strong multicollinearity or other numerical problems.\n",
              "\"\"\""
            ]
          },
          "metadata": {},
          "execution_count": 13
        }
      ]
    },
    {
      "cell_type": "code",
      "metadata": {
        "id": "MfenCpPOnj2m"
      },
      "source": [
        "from statsmodels.stats.outliers_influence import variance_inflation_factor\n",
        "def get_vif_factors( X ):\n",
        "  X_matrix = X.to_numpy()\n",
        "  vif = [ variance_inflation_factor( X_matrix, i ) for i in range( X_matrix.shape[1] ) ]\n",
        "  vif_factors = pd.DataFrame()\n",
        "  vif = [variance_inflation_factor(X.values, i) for i in range(X.shape[1])]\n",
        "  vif_factors['column'] = X.columns\n",
        "  vif_factors['vif'] = vif\n",
        "  return vif_factors"
      ],
      "execution_count": null,
      "outputs": []
    },
    {
      "cell_type": "code",
      "metadata": {
        "id": "j8GkK4x1njzU",
        "colab": {
          "base_uri": "https://localhost:8080/",
          "height": 204
        },
        "outputId": "fba1146d-5db6-4e2e-8795-7a254fe2110a"
      },
      "source": [
        "vif_factors = get_vif_factors( X[X_features] )\n",
        "vif_factors"
      ],
      "execution_count": null,
      "outputs": [
        {
          "output_type": "execute_result",
          "data": {
            "text/html": [
              "<div>\n",
              "<style scoped>\n",
              "    .dataframe tbody tr th:only-of-type {\n",
              "        vertical-align: middle;\n",
              "    }\n",
              "\n",
              "    .dataframe tbody tr th {\n",
              "        vertical-align: top;\n",
              "    }\n",
              "\n",
              "    .dataframe thead th {\n",
              "        text-align: right;\n",
              "    }\n",
              "</style>\n",
              "<table border=\"1\" class=\"dataframe\">\n",
              "  <thead>\n",
              "    <tr style=\"text-align: right;\">\n",
              "      <th></th>\n",
              "      <th>column</th>\n",
              "      <th>vif</th>\n",
              "    </tr>\n",
              "  </thead>\n",
              "  <tbody>\n",
              "    <tr>\n",
              "      <th>0</th>\n",
              "      <td>Humidity</td>\n",
              "      <td>13.876773</td>\n",
              "    </tr>\n",
              "    <tr>\n",
              "      <th>1</th>\n",
              "      <td>Wind Speed (km/h)</td>\n",
              "      <td>3.446279</td>\n",
              "    </tr>\n",
              "    <tr>\n",
              "      <th>2</th>\n",
              "      <td>Wind Bearing (degrees)</td>\n",
              "      <td>4.037040</td>\n",
              "    </tr>\n",
              "    <tr>\n",
              "      <th>3</th>\n",
              "      <td>Visibility (km)</td>\n",
              "      <td>7.386801</td>\n",
              "    </tr>\n",
              "    <tr>\n",
              "      <th>4</th>\n",
              "      <td>Pressure (millibars)</td>\n",
              "      <td>26.870380</td>\n",
              "    </tr>\n",
              "  </tbody>\n",
              "</table>\n",
              "</div>"
            ],
            "text/plain": [
              "                   column        vif\n",
              "0                Humidity  13.876773\n",
              "1       Wind Speed (km/h)   3.446279\n",
              "2  Wind Bearing (degrees)   4.037040\n",
              "3         Visibility (km)   7.386801\n",
              "4    Pressure (millibars)  26.870380"
            ]
          },
          "metadata": {},
          "execution_count": 15
        }
      ]
    },
    {
      "cell_type": "code",
      "metadata": {
        "id": "EPZ5L7B8nEpP",
        "colab": {
          "base_uri": "https://localhost:8080/"
        },
        "outputId": "5f9a8ae4-b5ac-4a3c-9f29-2cc4e0e3a97a"
      },
      "source": [
        "columns_with_large_vif = vif_factors[vif_factors.vif > 8].column\n",
        "columns_with_large_vif"
      ],
      "execution_count": null,
      "outputs": [
        {
          "output_type": "execute_result",
          "data": {
            "text/plain": [
              "0                Humidity\n",
              "4    Pressure (millibars)\n",
              "Name: column, dtype: object"
            ]
          },
          "metadata": {},
          "execution_count": 19
        }
      ]
    },
    {
      "cell_type": "code",
      "metadata": {
        "id": "Wd632hrcnjwW",
        "colab": {
          "base_uri": "https://localhost:8080/",
          "height": 607
        },
        "outputId": "6b614d59-94b7-4a6a-fef2-24c0939cf917"
      },
      "source": [
        "\n",
        "import matplotlib.pyplot as plt\n",
        "import seaborn as sn\n",
        "%matplotlib inline\n",
        "\n",
        "plt.figure( figsize = (12,10) )\n",
        "sn.heatmap( X[columns_with_large_vif].corr(), annot = True );\n",
        "plt.title( \"Figure 4.5 - Heatmap depicting correlation between features\");"
      ],
      "execution_count": null,
      "outputs": [
        {
          "output_type": "display_data",
          "data": {
            "image/png": "[encoded data removed]",
            "text/plain": [
              "<Figure size 864x720 with 2 Axes>"
            ]
          },
          "metadata": {
            "needs_background": "light"
          }
        }
      ]
    },
    {
      "cell_type": "code",
      "metadata": {
        "id": "219QWjdunusS"
      },
      "source": [
        "columns_to_be_removed = ['Humidity', 'Pressure (millibars)' ]"
      ],
      "execution_count": null,
      "outputs": []
    },
    {
      "cell_type": "code",
      "metadata": {
        "colab": {
          "base_uri": "https://localhost:8080/",
          "height": 142
        },
        "id": "MJaCOx0GpiBi",
        "outputId": "b5932647-00a1-41bd-b1cc-94b4a766d4ea"
      },
      "source": [
        "X_new_features = list( set(X_features) - set(columns_to_be_removed) )\n",
        "get_vif_factors( X[X_new_features] )"
      ],
      "execution_count": null,
      "outputs": [
        {
          "output_type": "execute_result",
          "data": {
            "text/html": [
              "<div>\n",
              "<style scoped>\n",
              "    .dataframe tbody tr th:only-of-type {\n",
              "        vertical-align: middle;\n",
              "    }\n",
              "\n",
              "    .dataframe tbody tr th {\n",
              "        vertical-align: top;\n",
              "    }\n",
              "\n",
              "    .dataframe thead th {\n",
              "        text-align: right;\n",
              "    }\n",
              "</style>\n",
              "<table border=\"1\" class=\"dataframe\">\n",
              "  <thead>\n",
              "    <tr style=\"text-align: right;\">\n",
              "      <th></th>\n",
              "      <th>column</th>\n",
              "      <th>vif</th>\n",
              "    </tr>\n",
              "  </thead>\n",
              "  <tbody>\n",
              "    <tr>\n",
              "      <th>0</th>\n",
              "      <td>Wind Bearing (degrees)</td>\n",
              "      <td>3.261742</td>\n",
              "    </tr>\n",
              "    <tr>\n",
              "      <th>1</th>\n",
              "      <td>Wind Speed (km/h)</td>\n",
              "      <td>3.085818</td>\n",
              "    </tr>\n",
              "    <tr>\n",
              "      <th>2</th>\n",
              "      <td>Visibility (km)</td>\n",
              "      <td>3.863284</td>\n",
              "    </tr>\n",
              "  </tbody>\n",
              "</table>\n",
              "</div>"
            ],
            "text/plain": [
              "                   column       vif\n",
              "0  Wind Bearing (degrees)  3.261742\n",
              "1       Wind Speed (km/h)  3.085818\n",
              "2         Visibility (km)  3.863284"
            ]
          },
          "metadata": {},
          "execution_count": 22
        }
      ]
    },
    {
      "cell_type": "code",
      "metadata": {
        "colab": {
          "base_uri": "https://localhost:8080/",
          "height": 338
        },
        "id": "7cwmUFOkpW9h",
        "outputId": "c9f017f0-257f-4fa2-8666-6f13d0da61f2"
      },
      "source": [
        "train_X = train_X[X_new_features]\n",
        "model_2 = sm.OLS(train_y, train_X).fit()\n",
        "model_2.summary2()"
      ],
      "execution_count": null,
      "outputs": [
        {
          "output_type": "execute_result",
          "data": {
            "text/html": [
              "<table class=\"simpletable\">\n",
              "<tr>\n",
              "          <td>Model:</td>                 <td>OLS</td>       <td>Adj. R-squared (uncentered):</td>    <td>0.665</td>   \n",
              "</tr>\n",
              "<tr>\n",
              "    <td>Dependent Variable:</td>    <td>Temperature (C)</td>             <td>AIC:</td>             <td>555190.7259</td>\n",
              "</tr>\n",
              "<tr>\n",
              "           <td>Date:</td>          <td>2021-08-31 11:47</td>             <td>BIC:</td>             <td>555218.4869</td>\n",
              "</tr>\n",
              "<tr>\n",
              "     <td>No. Observations:</td>          <td>77162</td>             <td>Log-Likelihood:</td>       <td>-2.7759e+05</td>\n",
              "</tr>\n",
              "<tr>\n",
              "         <td>Df Model:</td>                <td>3</td>                <td>F-statistic:</td>          <td>5.114e+04</td> \n",
              "</tr>\n",
              "<tr>\n",
              "       <td>Df Residuals:</td>            <td>77159</td>           <td>Prob (F-statistic):</td>        <td>0.00</td>    \n",
              "</tr>\n",
              "<tr>\n",
              "  <td>R-squared (uncentered):</td>       <td>0.665</td>                 <td>Scale:</td>              <td>78.040</td>   \n",
              "</tr>\n",
              "</table>\n",
              "<table class=\"simpletable\">\n",
              "<tr>\n",
              "             <td></td>             <th>Coef.</th> <th>Std.Err.</th>     <th>t</th>     <th>P>|t|</th> <th>[0.025</th>  <th>0.975]</th>\n",
              "</tr>\n",
              "<tr>\n",
              "  <th>Wind Bearing (degrees)</th> <td>0.0049</td>  <td>0.0003</td>   <td>18.5583</td> <td>0.0000</td> <td>0.0044</td>  <td>0.0054</td>\n",
              "</tr>\n",
              "<tr>\n",
              "  <th>Wind Speed (km/h)</th>      <td>0.0004</td>  <td>0.0044</td>   <td>0.0856</td>  <td>0.9318</td> <td>-0.0082</td> <td>0.0089</td>\n",
              "</tr>\n",
              "<tr>\n",
              "  <th>Visibility (km)</th>        <td>1.0380</td>  <td>0.0056</td>  <td>185.5303</td> <td>0.0000</td> <td>1.0271</td>  <td>1.0490</td>\n",
              "</tr>\n",
              "</table>\n",
              "<table class=\"simpletable\">\n",
              "<tr>\n",
              "     <td>Omnibus:</td>    <td>459.250</td>  <td>Durbin-Watson:</td>    <td>1.996</td> \n",
              "</tr>\n",
              "<tr>\n",
              "  <td>Prob(Omnibus):</td>  <td>0.000</td>  <td>Jarque-Bera (JB):</td> <td>411.362</td>\n",
              "</tr>\n",
              "<tr>\n",
              "       <td>Skew:</td>      <td>0.136</td>      <td>Prob(JB):</td>      <td>0.000</td> \n",
              "</tr>\n",
              "<tr>\n",
              "     <td>Kurtosis:</td>    <td>2.767</td>   <td>Condition No.:</td>     <td>42</td>   \n",
              "</tr>\n",
              "</table>"
            ],
            "text/plain": [
              "<class 'statsmodels.iolib.summary2.Summary'>\n",
              "\"\"\"\n",
              "                         Results: Ordinary least squares\n",
              "=================================================================================\n",
              "Model:                  OLS              Adj. R-squared (uncentered): 0.665      \n",
              "Dependent Variable:     Temperature (C)  AIC:                         555190.7259\n",
              "Date:                   2021-08-31 11:47 BIC:                         555218.4869\n",
              "No. Observations:       77162            Log-Likelihood:              -2.7759e+05\n",
              "Df Model:               3                F-statistic:                 5.114e+04  \n",
              "Df Residuals:           77159            Prob (F-statistic):          0.00       \n",
              "R-squared (uncentered): 0.665            Scale:                       78.040     \n",
              "-----------------------------------------------------------------------------------\n",
              "                           Coef.    Std.Err.      t       P>|t|     [0.025   0.975]\n",
              "-----------------------------------------------------------------------------------\n",
              "Wind Bearing (degrees)     0.0049     0.0003    18.5583   0.0000    0.0044   0.0054\n",
              "Wind Speed (km/h)          0.0004     0.0044     0.0856   0.9318   -0.0082   0.0089\n",
              "Visibility (km)            1.0380     0.0056   185.5303   0.0000    1.0271   1.0490\n",
              "---------------------------------------------------------------------------------\n",
              "Omnibus:                  459.250            Durbin-Watson:               1.996  \n",
              "Prob(Omnibus):            0.000              Jarque-Bera (JB):            411.362\n",
              "Skew:                     0.136              Prob(JB):                    0.000  \n",
              "Kurtosis:                 2.767              Condition No.:               42     \n",
              "=================================================================================\n",
              "\n",
              "\"\"\""
            ]
          },
          "metadata": {},
          "execution_count": 23
        }
      ]
    },
    {
      "cell_type": "code",
      "metadata": {
        "id": "Ofc-xTu3pW28"
      },
      "source": [
        "sig_var = ['Wind Bearing (degrees)', 'Visibility (km)']"
      ],
      "execution_count": null,
      "outputs": []
    },
    {
      "cell_type": "code",
      "metadata": {
        "colab": {
          "base_uri": "https://localhost:8080/",
          "height": 317
        },
        "id": "m7WNr4zRqFzA",
        "outputId": "627417ac-59e1-4c7c-bb37-215975e9e860"
      },
      "source": [
        "train_X = train_X[sig_var]\n",
        "model_3 = sm.OLS(train_y, train_X).fit()\n",
        "model_3.summary2()"
      ],
      "execution_count": null,
      "outputs": [
        {
          "output_type": "execute_result",
          "data": {
            "text/html": [
              "<table class=\"simpletable\">\n",
              "<tr>\n",
              "          <td>Model:</td>                 <td>OLS</td>       <td>Adj. R-squared (uncentered):</td>    <td>0.665</td>   \n",
              "</tr>\n",
              "<tr>\n",
              "    <td>Dependent Variable:</td>    <td>Temperature (C)</td>             <td>AIC:</td>             <td>555188.7332</td>\n",
              "</tr>\n",
              "<tr>\n",
              "           <td>Date:</td>          <td>2021-08-31 11:47</td>             <td>BIC:</td>             <td>555207.2405</td>\n",
              "</tr>\n",
              "<tr>\n",
              "     <td>No. Observations:</td>          <td>77162</td>             <td>Log-Likelihood:</td>       <td>-2.7759e+05</td>\n",
              "</tr>\n",
              "<tr>\n",
              "         <td>Df Model:</td>                <td>2</td>                <td>F-statistic:</td>          <td>7.672e+04</td> \n",
              "</tr>\n",
              "<tr>\n",
              "       <td>Df Residuals:</td>            <td>77160</td>           <td>Prob (F-statistic):</td>        <td>0.00</td>    \n",
              "</tr>\n",
              "<tr>\n",
              "  <td>R-squared (uncentered):</td>       <td>0.665</td>                 <td>Scale:</td>              <td>78.039</td>   \n",
              "</tr>\n",
              "</table>\n",
              "<table class=\"simpletable\">\n",
              "<tr>\n",
              "             <td></td>             <th>Coef.</th> <th>Std.Err.</th>     <th>t</th>     <th>P>|t|</th> <th>[0.025</th> <th>0.975]</th>\n",
              "</tr>\n",
              "<tr>\n",
              "  <th>Wind Bearing (degrees)</th> <td>0.0049</td>  <td>0.0003</td>   <td>19.5547</td> <td>0.0000</td> <td>0.0044</td> <td>0.0054</td>\n",
              "</tr>\n",
              "<tr>\n",
              "  <th>Visibility (km)</th>        <td>1.0383</td>  <td>0.0049</td>  <td>212.2983</td> <td>0.0000</td> <td>1.0287</td> <td>1.0479</td>\n",
              "</tr>\n",
              "</table>\n",
              "<table class=\"simpletable\">\n",
              "<tr>\n",
              "     <td>Omnibus:</td>    <td>458.899</td>  <td>Durbin-Watson:</td>    <td>1.996</td> \n",
              "</tr>\n",
              "<tr>\n",
              "  <td>Prob(Omnibus):</td>  <td>0.000</td>  <td>Jarque-Bera (JB):</td> <td>411.102</td>\n",
              "</tr>\n",
              "<tr>\n",
              "       <td>Skew:</td>      <td>0.136</td>      <td>Prob(JB):</td>      <td>0.000</td> \n",
              "</tr>\n",
              "<tr>\n",
              "     <td>Kurtosis:</td>    <td>2.767</td>   <td>Condition No.:</td>     <td>33</td>   \n",
              "</tr>\n",
              "</table>"
            ],
            "text/plain": [
              "<class 'statsmodels.iolib.summary2.Summary'>\n",
              "\"\"\"\n",
              "                         Results: Ordinary least squares\n",
              "=================================================================================\n",
              "Model:                  OLS              Adj. R-squared (uncentered): 0.665      \n",
              "Dependent Variable:     Temperature (C)  AIC:                         555188.7332\n",
              "Date:                   2021-08-31 11:47 BIC:                         555207.2405\n",
              "No. Observations:       77162            Log-Likelihood:              -2.7759e+05\n",
              "Df Model:               2                F-statistic:                 7.672e+04  \n",
              "Df Residuals:           77160            Prob (F-statistic):          0.00       \n",
              "R-squared (uncentered): 0.665            Scale:                       78.039     \n",
              "-----------------------------------------------------------------------------------\n",
              "                            Coef.    Std.Err.      t       P>|t|    [0.025   0.975]\n",
              "-----------------------------------------------------------------------------------\n",
              "Wind Bearing (degrees)      0.0049     0.0003    19.5547   0.0000   0.0044   0.0054\n",
              "Visibility (km)             1.0383     0.0049   212.2983   0.0000   1.0287   1.0479\n",
              "---------------------------------------------------------------------------------\n",
              "Omnibus:                  458.899            Durbin-Watson:               1.996  \n",
              "Prob(Omnibus):            0.000              Jarque-Bera (JB):            411.102\n",
              "Skew:                     0.136              Prob(JB):                    0.000  \n",
              "Kurtosis:                 2.767              Condition No.:               33     \n",
              "=================================================================================\n",
              "\n",
              "\"\"\""
            ]
          },
          "metadata": {},
          "execution_count": 25
        }
      ]
    },
    {
      "cell_type": "code",
      "metadata": {
        "id": "RgSC3TcfkIAc"
      },
      "source": [
        "import matplotlib.pyplot as plt\n",
        "import seaborn as sn\n",
        "%matplotlib inline"
      ],
      "execution_count": null,
      "outputs": []
    },
    {
      "cell_type": "code",
      "metadata": {
        "colab": {
          "base_uri": "https://localhost:8080/",
          "height": 312
        },
        "id": "nrSOjjA1jgQs",
        "outputId": "024232fb-ecf5-48e9-8206-9eaa44298687"
      },
      "source": [
        "model_1_resid = model_1.resid\n",
        "probplot = sm.ProbPlot( model_1_resid )\n",
        "plt.figure( figsize = (15, 13) )\n",
        "probplot.ppplot( line='45' )\n",
        "plt.title( \"Fig 4.1 - Normal P-P Plot of Regression Standardized Residuals\" )\n",
        "plt.show()"
      ],
      "execution_count": null,
      "outputs": [
        {
          "output_type": "display_data",
          "data": {
            "text/plain": [
              "<Figure size 1080x936 with 0 Axes>"
            ]
          },
          "metadata": {}
        },
        {
          "output_type": "display_data",
          "data": {
            "image/png": "[encoded data removed]",
            "text/plain": [
              "<Figure size 432x288 with 1 Axes>"
            ]
          },
          "metadata": {
            "needs_background": "light"
          }
        }
      ]
    },
    {
      "cell_type": "code",
      "metadata": {
        "id": "7xAkhfCkqFlc"
      },
      "source": [
        "def get_standardized_values( vals ):return (vals - vals.mean())/vals.std()"
      ],
      "execution_count": null,
      "outputs": []
    },
    {
      "cell_type": "code",
      "metadata": {
        "id": "bBarZg8ssOK0",
        "colab": {
          "base_uri": "https://localhost:8080/",
          "height": 295
        },
        "outputId": "9725b1c0-58bd-4064-bdd6-d1dd68ba8c49"
      },
      "source": [
        "plt.scatter( get_standardized_values( model_1.fittedvalues ),\n",
        "get_standardized_values( model_1_resid ) )\n",
        "plt.title( \"Fig 4.2 - Residual Plot: Temperature Prediction\" );\n",
        "plt.xlabel( \"Standardized predicted values\")\n",
        "plt.ylabel( \"Standardized Residuals\");"
      ],
      "execution_count": null,
      "outputs": [
        {
          "output_type": "display_data",
          "data": {
            "image/png": "[encoded data removed]",
            "text/plain": [
              "<Figure size 432x288 with 1 Axes>"
            ]
          },
          "metadata": {
            "needs_background": "light"
          }
        }
      ]
    },
    {
      "cell_type": "code",
      "metadata": {
        "id": "7naVpQyHmz11"
      },
      "source": [
        "from scipy.stats import zscore"
      ],
      "execution_count": null,
      "outputs": []
    },
    {
      "cell_type": "code",
      "metadata": {
        "colab": {
          "base_uri": "https://localhost:8080/"
        },
        "id": "pEV56X86qH_P",
        "outputId": "17477b65-d21e-44c5-eaa3-bf4dd01364bd"
      },
      "source": [
        "df.info()"
      ],
      "execution_count": null,
      "outputs": [
        {
          "output_type": "stream",
          "name": "stdout",
          "text": [
            "<class 'pandas.core.frame.DataFrame'>\n",
            "RangeIndex: 96453 entries, 0 to 96452\n",
            "Data columns (total 12 columns):\n",
            " #   Column                    Non-Null Count  Dtype  \n",
            "---  ------                    --------------  -----  \n",
            " 0   Formatted Date            96453 non-null  object \n",
            " 1   Summary                   96453 non-null  object \n",
            " 2   Precip Type               95936 non-null  object \n",
            " 3   Temperature (C)           96453 non-null  float64\n",
            " 4   Apparent Temperature (C)  96453 non-null  float64\n",
            " 5   Humidity                  96453 non-null  float64\n",
            " 6   Wind Speed (km/h)         96453 non-null  float64\n",
            " 7   Wind Bearing (degrees)    96453 non-null  float64\n",
            " 8   Visibility (km)           96453 non-null  float64\n",
            " 9   Loud Cover                96453 non-null  float64\n",
            " 10  Pressure (millibars)      96453 non-null  float64\n",
            " 11  Daily Summary             96453 non-null  object \n",
            "dtypes: float64(8), object(4)\n",
            "memory usage: 8.8+ MB\n"
          ]
        }
      ]
    },
    {
      "cell_type": "code",
      "metadata": {
        "colab": {
          "base_uri": "https://localhost:8080/"
        },
        "id": "OWrfxa2Iq5Dx",
        "outputId": "2e1ea5be-13d7-48a9-b23b-f5fa3c645162"
      },
      "source": [
        "df['Temperature (C)'].astype('int64')"
      ],
      "execution_count": null,
      "outputs": [
        {
          "output_type": "execute_result",
          "data": {
            "text/plain": [
              "0         9\n",
              "1         9\n",
              "2         9\n",
              "3         8\n",
              "4         8\n",
              "         ..\n",
              "96448    26\n",
              "96449    24\n",
              "96450    22\n",
              "96451    21\n",
              "96452    20\n",
              "Name: Temperature (C), Length: 96453, dtype: int64"
            ]
          },
          "metadata": {},
          "execution_count": 46
        }
      ]
    },
    {
      "cell_type": "code",
      "metadata": {
        "id": "oswOv3fVm7uJ"
      },
      "source": [
        "df['Z_score_Temperature_(C)'] = zscore( df['Temperature (C)'] )\n"
      ],
      "execution_count": null,
      "outputs": []
    },
    {
      "cell_type": "code",
      "metadata": {
        "colab": {
          "base_uri": "https://localhost:8080/",
          "height": 903
        },
        "id": "8iyEKVgHtduT",
        "outputId": "a7701ed0-e964-4b30-e20b-f16cb6a8aafd"
      },
      "source": [
        "new_df = df[(df['Z_score_Temperature_(C)']  < 3.0) | (df['Z_score_Temperature_(C)']  > -3.0) ] \n",
        "new_df.head(10)"
      ],
      "execution_count": null,
      "outputs": [
        {
          "output_type": "execute_result",
          "data": {
            "text/html": [
              "<div>\n",
              "<style scoped>\n",
              "    .dataframe tbody tr th:only-of-type {\n",
              "        vertical-align: middle;\n",
              "    }\n",
              "\n",
              "    .dataframe tbody tr th {\n",
              "        vertical-align: top;\n",
              "    }\n",
              "\n",
              "    .dataframe thead th {\n",
              "        text-align: right;\n",
              "    }\n",
              "</style>\n",
              "<table border=\"1\" class=\"dataframe\">\n",
              "  <thead>\n",
              "    <tr style=\"text-align: right;\">\n",
              "      <th></th>\n",
              "      <th>Formatted Date</th>\n",
              "      <th>Summary</th>\n",
              "      <th>Precip Type</th>\n",
              "      <th>Temperature (C)</th>\n",
              "      <th>Apparent Temperature (C)</th>\n",
              "      <th>Humidity</th>\n",
              "      <th>Wind Speed (km/h)</th>\n",
              "      <th>Wind Bearing (degrees)</th>\n",
              "      <th>Visibility (km)</th>\n",
              "      <th>Loud Cover</th>\n",
              "      <th>Pressure (millibars)</th>\n",
              "      <th>Daily Summary</th>\n",
              "      <th>Z_score_Temperature_(C)</th>\n",
              "    </tr>\n",
              "  </thead>\n",
              "  <tbody>\n",
              "    <tr>\n",
              "      <th>0</th>\n",
              "      <td>2006-04-01 00:00:00.000 +0200</td>\n",
              "      <td>Partly Cloudy</td>\n",
              "      <td>rain</td>\n",
              "      <td>9.472222</td>\n",
              "      <td>7.388889</td>\n",
              "      <td>0.89</td>\n",
              "      <td>14.1197</td>\n",
              "      <td>251.0</td>\n",
              "      <td>15.8263</td>\n",
              "      <td>0.0</td>\n",
              "      <td>1015.13</td>\n",
              "      <td>Partly cloudy throughout the day.</td>\n",
              "      <td>-0.257599</td>\n",
              "    </tr>\n",
              "    <tr>\n",
              "      <th>1</th>\n",
              "      <td>2006-04-01 01:00:00.000 +0200</td>\n",
              "      <td>Partly Cloudy</td>\n",
              "      <td>rain</td>\n",
              "      <td>9.355556</td>\n",
              "      <td>7.227778</td>\n",
              "      <td>0.86</td>\n",
              "      <td>14.2646</td>\n",
              "      <td>259.0</td>\n",
              "      <td>15.8263</td>\n",
              "      <td>0.0</td>\n",
              "      <td>1015.63</td>\n",
              "      <td>Partly cloudy throughout the day.</td>\n",
              "      <td>-0.269814</td>\n",
              "    </tr>\n",
              "    <tr>\n",
              "      <th>2</th>\n",
              "      <td>2006-04-01 02:00:00.000 +0200</td>\n",
              "      <td>Mostly Cloudy</td>\n",
              "      <td>rain</td>\n",
              "      <td>9.377778</td>\n",
              "      <td>9.377778</td>\n",
              "      <td>0.89</td>\n",
              "      <td>3.9284</td>\n",
              "      <td>204.0</td>\n",
              "      <td>14.9569</td>\n",
              "      <td>0.0</td>\n",
              "      <td>1015.94</td>\n",
              "      <td>Partly cloudy throughout the day.</td>\n",
              "      <td>-0.267487</td>\n",
              "    </tr>\n",
              "    <tr>\n",
              "      <th>3</th>\n",
              "      <td>2006-04-01 03:00:00.000 +0200</td>\n",
              "      <td>Partly Cloudy</td>\n",
              "      <td>rain</td>\n",
              "      <td>8.288889</td>\n",
              "      <td>5.944444</td>\n",
              "      <td>0.83</td>\n",
              "      <td>14.1036</td>\n",
              "      <td>269.0</td>\n",
              "      <td>15.8263</td>\n",
              "      <td>0.0</td>\n",
              "      <td>1016.41</td>\n",
              "      <td>Partly cloudy throughout the day.</td>\n",
              "      <td>-0.381489</td>\n",
              "    </tr>\n",
              "    <tr>\n",
              "      <th>4</th>\n",
              "      <td>2006-04-01 04:00:00.000 +0200</td>\n",
              "      <td>Mostly Cloudy</td>\n",
              "      <td>rain</td>\n",
              "      <td>8.755556</td>\n",
              "      <td>6.977778</td>\n",
              "      <td>0.83</td>\n",
              "      <td>11.0446</td>\n",
              "      <td>259.0</td>\n",
              "      <td>15.8263</td>\n",
              "      <td>0.0</td>\n",
              "      <td>1016.51</td>\n",
              "      <td>Partly cloudy throughout the day.</td>\n",
              "      <td>-0.332631</td>\n",
              "    </tr>\n",
              "    <tr>\n",
              "      <th>5</th>\n",
              "      <td>2006-04-01 05:00:00.000 +0200</td>\n",
              "      <td>Partly Cloudy</td>\n",
              "      <td>rain</td>\n",
              "      <td>9.222222</td>\n",
              "      <td>7.111111</td>\n",
              "      <td>0.85</td>\n",
              "      <td>13.9587</td>\n",
              "      <td>258.0</td>\n",
              "      <td>14.9569</td>\n",
              "      <td>0.0</td>\n",
              "      <td>1016.66</td>\n",
              "      <td>Partly cloudy throughout the day.</td>\n",
              "      <td>-0.283773</td>\n",
              "    </tr>\n",
              "    <tr>\n",
              "      <th>6</th>\n",
              "      <td>2006-04-01 06:00:00.000 +0200</td>\n",
              "      <td>Partly Cloudy</td>\n",
              "      <td>rain</td>\n",
              "      <td>7.733333</td>\n",
              "      <td>5.522222</td>\n",
              "      <td>0.95</td>\n",
              "      <td>12.3648</td>\n",
              "      <td>259.0</td>\n",
              "      <td>9.9820</td>\n",
              "      <td>0.0</td>\n",
              "      <td>1016.72</td>\n",
              "      <td>Partly cloudy throughout the day.</td>\n",
              "      <td>-0.439653</td>\n",
              "    </tr>\n",
              "    <tr>\n",
              "      <th>7</th>\n",
              "      <td>2006-04-01 07:00:00.000 +0200</td>\n",
              "      <td>Partly Cloudy</td>\n",
              "      <td>rain</td>\n",
              "      <td>8.772222</td>\n",
              "      <td>6.527778</td>\n",
              "      <td>0.89</td>\n",
              "      <td>14.1519</td>\n",
              "      <td>260.0</td>\n",
              "      <td>9.9820</td>\n",
              "      <td>0.0</td>\n",
              "      <td>1016.84</td>\n",
              "      <td>Partly cloudy throughout the day.</td>\n",
              "      <td>-0.330886</td>\n",
              "    </tr>\n",
              "    <tr>\n",
              "      <th>8</th>\n",
              "      <td>2006-04-01 08:00:00.000 +0200</td>\n",
              "      <td>Partly Cloudy</td>\n",
              "      <td>rain</td>\n",
              "      <td>10.822222</td>\n",
              "      <td>10.822222</td>\n",
              "      <td>0.82</td>\n",
              "      <td>11.3183</td>\n",
              "      <td>259.0</td>\n",
              "      <td>9.9820</td>\n",
              "      <td>0.0</td>\n",
              "      <td>1017.37</td>\n",
              "      <td>Partly cloudy throughout the day.</td>\n",
              "      <td>-0.116260</td>\n",
              "    </tr>\n",
              "    <tr>\n",
              "      <th>9</th>\n",
              "      <td>2006-04-01 09:00:00.000 +0200</td>\n",
              "      <td>Partly Cloudy</td>\n",
              "      <td>rain</td>\n",
              "      <td>13.772222</td>\n",
              "      <td>13.772222</td>\n",
              "      <td>0.72</td>\n",
              "      <td>12.5258</td>\n",
              "      <td>279.0</td>\n",
              "      <td>9.9820</td>\n",
              "      <td>0.0</td>\n",
              "      <td>1017.22</td>\n",
              "      <td>Partly cloudy throughout the day.</td>\n",
              "      <td>0.192592</td>\n",
              "    </tr>\n",
              "  </tbody>\n",
              "</table>\n",
              "</div>"
            ],
            "text/plain": [
              "                  Formatted Date  ... Z_score_Temperature_(C)\n",
              "0  2006-04-01 00:00:00.000 +0200  ...               -0.257599\n",
              "1  2006-04-01 01:00:00.000 +0200  ...               -0.269814\n",
              "2  2006-04-01 02:00:00.000 +0200  ...               -0.267487\n",
              "3  2006-04-01 03:00:00.000 +0200  ...               -0.381489\n",
              "4  2006-04-01 04:00:00.000 +0200  ...               -0.332631\n",
              "5  2006-04-01 05:00:00.000 +0200  ...               -0.283773\n",
              "6  2006-04-01 06:00:00.000 +0200  ...               -0.439653\n",
              "7  2006-04-01 07:00:00.000 +0200  ...               -0.330886\n",
              "8  2006-04-01 08:00:00.000 +0200  ...               -0.116260\n",
              "9  2006-04-01 09:00:00.000 +0200  ...                0.192592\n",
              "\n",
              "[10 rows x 13 columns]"
            ]
          },
          "metadata": {},
          "execution_count": 39
        }
      ]
    }
  ]
}